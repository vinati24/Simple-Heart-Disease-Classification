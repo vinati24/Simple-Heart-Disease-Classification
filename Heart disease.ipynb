{
 "cells": [
  {
   "cell_type": "code",
   "execution_count": null,
   "id": "90ab0c5e",
   "metadata": {},
   "outputs": [],
   "source": [
    "# Heart Disease classification using machine learning algorithms like SupportVectorMachines(SVM), K-NearestNeighbors(KNN), Decisiontree, linearregression, randomforest, etc."
   ]
  },
  {
   "cell_type": "code",
   "execution_count": 1,
   "id": "536f4b25",
   "metadata": {},
   "outputs": [],
   "source": [
    "import pandas as pd\n",
    "import numpy as np\n",
    "import seaborn as sns\n",
    "import matplotlib.pyplot as plt\n",
    "from sklearn.model_selection import train_test_split\n",
    "from sklearn.preprocessing import StandardScaler\n",
    "from sklearn.svm import SVC\n",
    "from sklearn.neighbors import KNeighborsClassifier\n",
    "from sklearn.tree import DecisionTreeClassifier\n",
    "from sklearn.linear_model import LogisticRegression\n",
    "from sklearn.ensemble import RandomForestClassifier\n",
    "from sklearn.metrics import classification_report, confusion_matrix\n",
    "from sklearn.metrics import accuracy_score, precision_score, recall_score, f1_score"
   ]
  },
  {
   "cell_type": "code",
   "execution_count": 2,
   "id": "f0d7b393",
   "metadata": {},
   "outputs": [
    {
     "name": "stdout",
     "output_type": "stream",
     "text": [
      "Index(['age', 'sex', 'cp', 'trestbps', 'chol', 'fbs', 'restecg', 'thalach',\n",
      "       'exang', 'oldpeak', 'slope', 'ca', 'thal', 'target'],\n",
      "      dtype='object')\n"
     ]
    }
   ],
   "source": [
    "# Load data\n",
    "data = pd.read_csv(\"heart.csv\")  # Replace \"heart.csv\" with your downloaded file path\n",
    "\n",
    "\n",
    "# Check column names (optional)\n",
    "print(data.columns)\n",
    "\n",
    "categorical_features = [\n",
    "    col for col in ['age', 'sex', 'cp', 'trestbps', 'chol', 'fbs', 'restecg', 'thalach',\n",
    "       'exang', 'oldpeak', 'slope', 'ca', 'thal']  # Adjust based on actual names\n",
    "    if col in data.columns  # Only include columns present in the data\n",
    "]\n",
    "\n",
    "for feature in categorical_features:\n",
    "    data = pd.get_dummies(data, columns=[feature])\n",
    "    \n",
    "    \n",
    "    \n",
    "\n"
   ]
  },
  {
   "cell_type": "code",
   "execution_count": 3,
   "id": "fc055957",
   "metadata": {},
   "outputs": [],
   "source": [
    "# Separate features and target variable\n",
    "X = data.drop(\"target\", axis=1)\n",
    "y = data[\"target\"]\n",
    "\n",
    "# Split data into training and testing sets\n",
    "X_train, X_test, y_train, y_test = train_test_split(X, y, test_size=0.2, random_state=42)\n",
    "\n",
    "# Standardize features\n",
    "scaler = StandardScaler()\n",
    "X_train = scaler.fit_transform(X_train)\n",
    "X_test = scaler.transform(X_test)"
   ]
  },
  {
   "cell_type": "code",
   "execution_count": null,
   "id": "007a35a0",
   "metadata": {},
   "outputs": [],
   "source": []
  },
  {
   "cell_type": "code",
   "execution_count": 4,
   "id": "eec692a5",
   "metadata": {},
   "outputs": [
    {
     "name": "stdout",
     "output_type": "stream",
     "text": [
      "** Model: SVM **\n",
      "Accuracy: 0.9854\n",
      "Precision: 1.0000\n",
      "Recall: 0.9709\n",
      "F1-Score: 0.9852\n",
      "------------------------------\n",
      "** Model: KNN **\n",
      "Accuracy: 0.7707\n",
      "Precision: 0.7593\n",
      "Recall: 0.7961\n",
      "F1-Score: 0.7773\n",
      "------------------------------\n",
      "** Model: Decision Tree **\n",
      "Accuracy: 0.8049\n",
      "Precision: 0.7890\n",
      "Recall: 0.8350\n",
      "F1-Score: 0.8113\n",
      "------------------------------\n",
      "** Model: Logistic Regression **\n",
      "Accuracy: 1.0000\n",
      "Precision: 1.0000\n",
      "Recall: 1.0000\n",
      "F1-Score: 1.0000\n",
      "------------------------------\n",
      "** Model: Random Forest **\n",
      "Accuracy: 1.0000\n",
      "Precision: 1.0000\n",
      "Recall: 1.0000\n",
      "F1-Score: 1.0000\n",
      "------------------------------\n"
     ]
    }
   ],
   "source": [
    "# Define and evaluate different models\n",
    "models = []\n",
    "models.append((\"SVM\", SVC(kernel=\"linear\")))\n",
    "models.append((\"KNN\", KNeighborsClassifier(n_neighbors=5)))\n",
    "models.append((\"Decision Tree\", DecisionTreeClassifier(max_depth=3)))\n",
    "models.append((\"Logistic Regression\", LogisticRegression()))\n",
    "models.append((\"Random Forest\", RandomForestClassifier(n_estimators=100)))\n",
    "\n",
    "for name, model in models:\n",
    "    # Train the model\n",
    "    model.fit(X_train, y_train)\n",
    "\n",
    "    # Make predictions on testing data\n",
    "    y_pred = model.predict(X_test)\n",
    "\n",
    "    # Evaluate model performance\n",
    "    accuracy = accuracy_score(y_test, y_pred)\n",
    "    precision = precision_score(y_test, y_pred)\n",
    "    recall = recall_score(y_test, y_pred)\n",
    "    f1 = f1_score(y_test, y_pred)\n",
    "\n",
    "    print(f\"** Model: {name} **\")\n",
    "    print(f\"Accuracy: {accuracy:.4f}\")\n",
    "    print(f\"Precision: {precision:.4f}\")\n",
    "    print(f\"Recall: {recall:.4f}\")\n",
    "    print(f\"F1-Score: {f1:.4f}\")\n",
    "    print(\"-\" * 30)\n",
    "    \n",
    "    \n",
    "\n",
    "\n",
    "# Choose the best model based on your evaluation criteria\n",
    "\n"
   ]
  },
  {
   "cell_type": "code",
   "execution_count": 5,
   "id": "ee5d7954",
   "metadata": {},
   "outputs": [],
   "source": [
    "# Sample prediction (assuming X_test has new data)\n",
    "# Choose the model you want to use for prediction (e.g., best performing model)\n",
    "chosen_model = models[4][1]  # Assuming the  model (random forest) is chosen \n",
    "\n",
    "\n",
    "#Here we are using random forest for prediction based on the accuracy score\n",
    "\n",
    "# Select a sample from testing data\n",
    "new_data = X_test[56, :]  # Use NumPy indexing instead of iloc\n",
    "\n",
    "# Predict using the chosen model\n",
    "new_data_pred = chosen_model.predict([new_data])\n",
    "\n"
   ]
  },
  {
   "cell_type": "code",
   "execution_count": 6,
   "id": "a53e36f5",
   "metadata": {},
   "outputs": [
    {
     "name": "stdout",
     "output_type": "stream",
     "text": [
      "\n",
      "Sample Prediction:\n",
      "Predicted: Person is less likely to have heart disease\n",
      "Note: This is just a prediction based on the model. Always consult a medical professional for diagnosis and treatment.\n"
     ]
    }
   ],
   "source": [
    "print(\"\\nSample Prediction:\")\n",
    "if new_data_pred[0] == 1:\n",
    "    print(\"Predicted: Person has heart disease\")\n",
    "else:\n",
    "    print(\"Predicted: Person is less likely to have heart disease\")\n",
    "\n",
    "print(\"Note: This is just a prediction based on the model. Always consult a medical professional for diagnosis and treatment.\")"
   ]
  },
  {
   "cell_type": "code",
   "execution_count": null,
   "id": "c3d4b299",
   "metadata": {},
   "outputs": [],
   "source": []
  }
 ],
 "metadata": {
  "kernelspec": {
   "display_name": "Python 3 (ipykernel)",
   "language": "python",
   "name": "python3"
  },
  "language_info": {
   "codemirror_mode": {
    "name": "ipython",
    "version": 3
   },
   "file_extension": ".py",
   "mimetype": "text/x-python",
   "name": "python",
   "nbconvert_exporter": "python",
   "pygments_lexer": "ipython3",
   "version": "3.9.12"
  }
 },
 "nbformat": 4,
 "nbformat_minor": 5
}
